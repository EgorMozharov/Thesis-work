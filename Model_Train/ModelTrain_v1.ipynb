{
  "nbformat": 4,
  "nbformat_minor": 0,
  "metadata": {
    "colab": {
      "provenance": []
    },
    "kernelspec": {
      "name": "python3",
      "display_name": "Python 3"
    },
    "language_info": {
      "name": "python"
    }
  },
  "cells": [
    {
      "cell_type": "code",
      "execution_count": 20,
      "metadata": {
        "id": "H5osjpaHzL-t"
      },
      "outputs": [],
      "source": [
        "import pandas as pd\n",
        "from sentence_transformers import SentenceTransformer\n",
        "from sklearn.metrics.pairwise import cosine_similarity"
      ]
    },
    {
      "cell_type": "code",
      "source": [
        "def build_embeddings_for_resumes(df, model_name=\"sentence-transformers/paraphrase-multilingual-MiniLM-L12-v2\"):\n",
        "    \"\"\"\n",
        "    Принимает DataFrame df (с колонкой 'text'), возвращает:\n",
        "    1) Тот же df, но с дополнительным столбцом 'embedding'.\n",
        "    2) Объект модели (SentenceTransformer), чтобы потом использовать для поиска.\n",
        "    \"\"\"\n",
        "    # Загружаем модель\n",
        "    model = SentenceTransformer(model_name)\n",
        "\n",
        "    # Строим эмбеддинги для каждого резюме\n",
        "    texts = df[\"text\"].tolist()\n",
        "    embeddings = model.encode(texts, show_progress_bar=True)\n",
        "\n",
        "    # Записываем эмбеддинги в DataFrame\n",
        "    df[\"embedding\"] = list(embeddings)\n",
        "\n",
        "    return df, model"
      ],
      "metadata": {
        "id": "pOe3clU000Zp"
      },
      "execution_count": 21,
      "outputs": []
    },
    {
      "cell_type": "code",
      "source": [
        "def search_resumes_by_query(df, model, query, top_k=5, similarity_threshold=None):\n",
        "    \"\"\"\n",
        "    Ищет наиболее релевантные резюме по запросу 'query'.\n",
        "    - df должен содержать столбец 'embedding'\n",
        "    - model – это SentenceTransformer (BERT)\n",
        "    - top_k – сколько верхних (самых похожих) результатов вывести\n",
        "    - similarity_threshold – для вывода только тех у которых\n",
        "      похожесть не ниже заданного порога\n",
        "\n",
        "    Возвращает DataFrame из найденных совпадений,\n",
        "    добавляя столбец 'similarity' (косинусная близость).\n",
        "    \"\"\"\n",
        "\n",
        "    # Получаем эмбеддинг для запроса\n",
        "    query_embedding = model.encode([query])  # список из одного запроса\n",
        "    query_embedding = query_embedding[0].reshape(1, -1)  # форма (1, dim)\n",
        "\n",
        "    # Собираем все эмбеддинги из DataFrame\n",
        "    resume_embeddings = list(df[\"embedding\"].values)\n",
        "\n",
        "    # Превратим resume_embeddings в массив numpy (shape: [N, dim])\n",
        "    import numpy as np\n",
        "    resume_embeddings = np.vstack(resume_embeddings)  # (N, dim)\n",
        "\n",
        "    # Вычисляем косинусную близость\n",
        "    similarities = cosine_similarity(query_embedding, resume_embeddings)\n",
        "\n",
        "    # similarities имеет форму (1, N), где N – число резюме\n",
        "    similarities = similarities[0]  # превращаем в shape (N, )\n",
        "\n",
        "    df_result = df.copy()\n",
        "    df_result[\"similarity\"] = similarities\n",
        "\n",
        "    # Сортируем по убыванию\n",
        "    df_result = df_result.sort_values(by=\"similarity\", ascending=False)\n",
        "\n",
        "    # Если задан порог, то фильтруем\n",
        "    if similarity_threshold is not None:\n",
        "        df_result = df_result[df_result[\"similarity\"] >= similarity_threshold]\n",
        "\n",
        "    # Если задан top_k, то берем первые top_k строк\n",
        "    if top_k is not None:\n",
        "        df_result = df_result.head(top_k)\n",
        "\n",
        "    return df_result"
      ],
      "metadata": {
        "id": "RY1pioed01sv"
      },
      "execution_count": 22,
      "outputs": []
    },
    {
      "cell_type": "code",
      "source": [
        "df = pd.read_excel(\"files_text.xls\")\n",
        "\n",
        "# Создаём эмбеддинги\n",
        "df, model = build_embeddings_for_resumes(df)\n",
        "\n",
        "# Формируем поисковый запрос\n",
        "query = \"Опыт в data science, Python, машинном обучении\"\n",
        "\n",
        "# Ищем резюме\n",
        "df_found = search_resumes_by_query(df, model, query, top_k=3, similarity_threshold=0.5)\n",
        "\n",
        "print(\"Найденные резюме:\")\n",
        "print(df_found[[\"filename\", \"similarity\"]])"
      ],
      "metadata": {
        "id": "E5jkkHzY0yjJ"
      },
      "execution_count": null,
      "outputs": []
    }
  ]
}