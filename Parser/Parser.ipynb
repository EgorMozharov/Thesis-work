{
 "cells": [
  {
   "cell_type": "code",
   "execution_count": 8,
   "id": "09ade393-2efd-45a9-a23c-33466e7282a0",
   "metadata": {},
   "outputs": [],
   "source": [
    "import matplotlib.pyplot as plt\n",
    "import numpy as np\n",
    "import os\n",
    "import PyPDF2\n",
    "import docx\n",
    "import pandas as pd"
   ]
  },
  {
   "cell_type": "code",
   "execution_count": 9,
   "id": "f8187e54-cab8-49ff-bbfc-6adce507cb15",
   "metadata": {},
   "outputs": [],
   "source": [
    "def read_pdf_text(file_path):\n",
    "    \"\"\"\n",
    "    Читает PDF-файл и возвращает текст, содержащийся во всех его страницах.\n",
    "    \"\"\"\n",
    "    text = \"\"\n",
    "    with open(file_path, 'rb') as f:\n",
    "        pdf_reader = PyPDF2.PdfReader(f)\n",
    "        for page in pdf_reader.pages:\n",
    "            page_text = page.extract_text()\n",
    "            if page_text:\n",
    "                text += page_text + \"\\n\"\n",
    "    return text"
   ]
  },
  {
   "cell_type": "code",
   "execution_count": 10,
   "id": "60df2d67-e1a4-4676-906c-1ff0d45088f3",
   "metadata": {},
   "outputs": [],
   "source": [
    "def read_docx_text(file_path):\n",
    "    \"\"\"\n",
    "    Читает DOCX-файл и возвращает текст, содержащийся во всех его параграфах.\n",
    "    \"\"\"\n",
    "    text = \"\"\n",
    "    doc = docx.Document(file_path)\n",
    "    for paragraph in doc.paragraphs:\n",
    "        text += paragraph.text + \"\\n\"\n",
    "    return text"
   ]
  },
  {
   "cell_type": "code",
   "execution_count": 11,
   "id": "9cd17f75-1e85-4cfa-bc73-a048d20c6cdc",
   "metadata": {},
   "outputs": [],
   "source": [
    "def get_text_from_files(folder_path):\n",
    "    \"\"\"\n",
    "    Проходит по папке folder_path, ищет все PDF и DOCX файлы,\n",
    "    формирует DataFrame с колонками 'filename' и 'text'.\n",
    "    \"\"\"\n",
    "    file_data = []  # здесь будут храниться словари, по одному на файл\n",
    "\n",
    "    for filename in os.listdir(folder_path):\n",
    "        # Полный путь до файла\n",
    "        file_path = os.path.join(folder_path, filename)\n",
    "        \n",
    "        # Если это папка, пропускаем её\n",
    "        if os.path.isdir(file_path):\n",
    "            continue\n",
    "        \n",
    "        # Проверяем расширение\n",
    "        ext = os.path.splitext(filename)[1].lower()\n",
    "        \n",
    "        # Ищем pdf / docx\n",
    "        if ext == \".pdf\":\n",
    "            file_text = read_pdf_text(file_path)\n",
    "            file_data.append({\"filename\": filename, \"text\": file_text})\n",
    "        elif ext == \".docx\":\n",
    "            file_text = read_docx_text(file_path)\n",
    "            file_data.append({\"filename\": filename, \"text\": file_text})\n",
    "\n",
    "    # Создаём DataFrame из полученных данных\n",
    "    df = pd.DataFrame(file_data, columns=[\"filename\", \"text\"])\n",
    "    return df"
   ]
  },
  {
   "cell_type": "code",
   "execution_count": 14,
   "id": "16e36c90-c126-4342-a8d8-e1a1489d3c9e",
   "metadata": {},
   "outputs": [
    {
     "name": "stdout",
     "output_type": "stream",
     "text": [
      "DataFrame сохранён в Dataset/files_text.csv\n"
     ]
    }
   ],
   "source": [
    "folder_path = \"Dataset/\"\n",
    "df_result = get_text_from_files(folder_path)\n",
    "\n",
    "# Сохраняем в csv file для дальянейшего использования \n",
    "output_csv_path = os.path.join(folder_path, \"files_text.csv\")\n",
    "df_result.to_csv(output_csv_path, index=False, encoding=\"utf-8-sig\")\n",
    "print(f\"DataFrame сохранён в {output_csv_path}\")"
   ]
  },
  {
   "cell_type": "code",
   "execution_count": null,
   "id": "71d0035d-a474-4c50-a5ee-9508ca7fb76e",
   "metadata": {},
   "outputs": [],
   "source": []
  }
 ],
 "metadata": {
  "kernelspec": {
   "display_name": "Python 3 (ipykernel)",
   "language": "python",
   "name": "python3"
  },
  "language_info": {
   "codemirror_mode": {
    "name": "ipython",
    "version": 3
   },
   "file_extension": ".py",
   "mimetype": "text/x-python",
   "name": "python",
   "nbconvert_exporter": "python",
   "pygments_lexer": "ipython3",
   "version": "3.12.1"
  }
 },
 "nbformat": 4,
 "nbformat_minor": 5
}
